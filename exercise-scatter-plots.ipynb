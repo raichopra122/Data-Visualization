{
 "cells": [
  {
   "cell_type": "markdown",
   "id": "every-boxing",
   "metadata": {
    "papermill": {
     "duration": 0.026391,
     "end_time": "2021-04-01T04:42:06.150393",
     "exception": false,
     "start_time": "2021-04-01T04:42:06.124002",
     "status": "completed"
    },
    "tags": []
   },
   "source": [
    "**This notebook is an exercise in the [Data Visualization](https://www.kaggle.com/learn/data-visualization) course.  You can reference the tutorial at [this link](https://www.kaggle.com/alexisbcook/scatter-plots).**\n",
    "\n",
    "---\n"
   ]
  },
  {
   "cell_type": "markdown",
   "id": "compliant-tiger",
   "metadata": {
    "papermill": {
     "duration": 0.0239,
     "end_time": "2021-04-01T04:42:06.199386",
     "exception": false,
     "start_time": "2021-04-01T04:42:06.175486",
     "status": "completed"
    },
    "tags": []
   },
   "source": [
    "In this exercise, you will use your new knowledge to propose a solution to a real-world scenario.  To succeed, you will need to import data into Python, answer questions using the data, and generate **scatter plots** to understand patterns in the data.\n",
    "\n",
    "## Scenario\n",
    "\n",
    "You work for a major candy producer, and your goal is to write a report that your company can use to guide the design of its next product.  Soon after starting your research, you stumble across this [very interesting dataset](https://fivethirtyeight.com/features/the-ultimate-halloween-candy-power-ranking/) containing results from a fun survey to crowdsource favorite candies.\n",
    "\n",
    "## Setup\n",
    "\n",
    "Run the next cell to import and configure the Python libraries that you need to complete the exercise."
   ]
  },
  {
   "cell_type": "code",
   "execution_count": 1,
   "id": "drawn-structure",
   "metadata": {
    "execution": {
     "iopub.execute_input": "2021-04-01T04:42:06.251643Z",
     "iopub.status.busy": "2021-04-01T04:42:06.250514Z",
     "iopub.status.idle": "2021-04-01T04:42:07.182346Z",
     "shell.execute_reply": "2021-04-01T04:42:07.182991Z"
    },
    "papermill": {
     "duration": 0.959745,
     "end_time": "2021-04-01T04:42:07.183274",
     "exception": false,
     "start_time": "2021-04-01T04:42:06.223529",
     "status": "completed"
    },
    "tags": []
   },
   "outputs": [
    {
     "name": "stdout",
     "output_type": "stream",
     "text": [
      "Setup Complete\n"
     ]
    }
   ],
   "source": [
    "import pandas as pd\n",
    "pd.plotting.register_matplotlib_converters()\n",
    "import matplotlib.pyplot as plt\n",
    "%matplotlib inline\n",
    "import seaborn as sns\n",
    "print(\"Setup Complete\")"
   ]
  },
  {
   "cell_type": "markdown",
   "id": "precise-subscription",
   "metadata": {
    "papermill": {
     "duration": 0.02487,
     "end_time": "2021-04-01T04:42:07.235378",
     "exception": false,
     "start_time": "2021-04-01T04:42:07.210508",
     "status": "completed"
    },
    "tags": []
   },
   "source": [
    "The questions below will give you feedback on your work. Run the following cell to set up our feedback system."
   ]
  },
  {
   "cell_type": "code",
   "execution_count": 2,
   "id": "measured-minority",
   "metadata": {
    "execution": {
     "iopub.execute_input": "2021-04-01T04:42:07.291327Z",
     "iopub.status.busy": "2021-04-01T04:42:07.290575Z",
     "iopub.status.idle": "2021-04-01T04:42:07.367462Z",
     "shell.execute_reply": "2021-04-01T04:42:07.367954Z"
    },
    "papermill": {
     "duration": 0.107767,
     "end_time": "2021-04-01T04:42:07.368137",
     "exception": false,
     "start_time": "2021-04-01T04:42:07.260370",
     "status": "completed"
    },
    "tags": []
   },
   "outputs": [
    {
     "name": "stdout",
     "output_type": "stream",
     "text": [
      "Setup Complete\n"
     ]
    }
   ],
   "source": [
    "# Set up code checking\n",
    "import os\n",
    "if not os.path.exists(\"../input/candy.csv\"):\n",
    "    os.symlink(\"../input/data-for-datavis/candy.csv\", \"../input/candy.csv\") \n",
    "from learntools.core import binder\n",
    "binder.bind(globals())\n",
    "from learntools.data_viz_to_coder.ex4 import *\n",
    "print(\"Setup Complete\")"
   ]
  },
  {
   "cell_type": "markdown",
   "id": "married-mitchell",
   "metadata": {
    "papermill": {
     "duration": 0.025178,
     "end_time": "2021-04-01T04:42:07.418957",
     "exception": false,
     "start_time": "2021-04-01T04:42:07.393779",
     "status": "completed"
    },
    "tags": []
   },
   "source": [
    "## Step 1: Load the Data\n",
    "\n",
    "Read the candy data file into `candy_data`.  Use the `\"id\"` column to label the rows."
   ]
  },
  {
   "cell_type": "code",
   "execution_count": 3,
   "id": "fewer-interval",
   "metadata": {
    "execution": {
     "iopub.execute_input": "2021-04-01T04:42:07.475657Z",
     "iopub.status.busy": "2021-04-01T04:42:07.474705Z",
     "iopub.status.idle": "2021-04-01T04:42:07.488289Z",
     "shell.execute_reply": "2021-04-01T04:42:07.488750Z"
    },
    "papermill": {
     "duration": 0.044565,
     "end_time": "2021-04-01T04:42:07.488914",
     "exception": false,
     "start_time": "2021-04-01T04:42:07.444349",
     "status": "completed"
    },
    "tags": []
   },
   "outputs": [
    {
     "data": {
      "application/javascript": [
       "parent.postMessage({\"jupyterEvent\": \"custom.exercise_interaction\", \"data\": {\"outcomeType\": 1, \"valueTowardsCompletion\": 0.3333333333333333, \"interactionType\": 1, \"questionType\": 1, \"questionId\": \"1_LoadData\", \"learnToolsVersion\": \"0.3.4\", \"failureMessage\": \"\", \"exceptionClass\": \"\", \"trace\": \"\"}}, \"*\")"
      ],
      "text/plain": [
       "<IPython.core.display.Javascript object>"
      ]
     },
     "metadata": {},
     "output_type": "display_data"
    },
    {
     "data": {
      "text/markdown": [
       "<span style=\"color:#33cc33\">Correct</span>"
      ],
      "text/plain": [
       "Correct"
      ]
     },
     "metadata": {},
     "output_type": "display_data"
    }
   ],
   "source": [
    "# Path of the file to read\n",
    "candy_filepath = \"../input/candy.csv\"\n",
    "\n",
    "# Fill in the line below to read the file into a variable candy_data\n",
    "candy_data = pd.read_csv(candy_filepath, index_col = \"id\")\n",
    "\n",
    "# Run the line below with no changes to check that you've loaded the data correctly\n",
    "step_1.check()"
   ]
  },
  {
   "cell_type": "code",
   "execution_count": 4,
   "id": "steady-delaware",
   "metadata": {
    "execution": {
     "iopub.execute_input": "2021-04-01T04:42:07.547381Z",
     "iopub.status.busy": "2021-04-01T04:42:07.546739Z",
     "iopub.status.idle": "2021-04-01T04:42:07.551413Z",
     "shell.execute_reply": "2021-04-01T04:42:07.551989Z"
    },
    "papermill": {
     "duration": 0.036462,
     "end_time": "2021-04-01T04:42:07.552157",
     "exception": false,
     "start_time": "2021-04-01T04:42:07.515695",
     "status": "completed"
    },
    "tags": []
   },
   "outputs": [
    {
     "data": {
      "application/javascript": [
       "parent.postMessage({\"jupyterEvent\": \"custom.exercise_interaction\", \"data\": {\"interactionType\": 3, \"questionType\": 1, \"questionId\": \"1_LoadData\", \"learnToolsVersion\": \"0.3.4\", \"valueTowardsCompletion\": 0.0, \"failureMessage\": \"\", \"exceptionClass\": \"\", \"trace\": \"\", \"outcomeType\": 4}}, \"*\")"
      ],
      "text/plain": [
       "<IPython.core.display.Javascript object>"
      ]
     },
     "metadata": {},
     "output_type": "display_data"
    },
    {
     "data": {
      "text/markdown": [
       "<span style=\"color:#33cc99\">Solution:</span> \n",
       "```python\n",
       "candy_data = pd.read_csv(candy_filepath, index_col=\"id\")\n",
       "```"
      ],
      "text/plain": [
       "Solution: \n",
       "```python\n",
       "candy_data = pd.read_csv(candy_filepath, index_col=\"id\")\n",
       "```"
      ]
     },
     "metadata": {},
     "output_type": "display_data"
    }
   ],
   "source": [
    "# Lines below will give you a hint or solution code\n",
    "#step_1.hint()\n",
    "step_1.solution()"
   ]
  },
  {
   "cell_type": "markdown",
   "id": "micro-sheet",
   "metadata": {
    "papermill": {
     "duration": 0.027654,
     "end_time": "2021-04-01T04:42:07.607438",
     "exception": false,
     "start_time": "2021-04-01T04:42:07.579784",
     "status": "completed"
    },
    "tags": []
   },
   "source": [
    "## Step 2: Review the data\n",
    "\n",
    "Use a Python command to print the first five rows of the data."
   ]
  },
  {
   "cell_type": "code",
   "execution_count": 5,
   "id": "front-prompt",
   "metadata": {
    "execution": {
     "iopub.execute_input": "2021-04-01T04:42:07.667278Z",
     "iopub.status.busy": "2021-04-01T04:42:07.666678Z",
     "iopub.status.idle": "2021-04-01T04:42:07.692949Z",
     "shell.execute_reply": "2021-04-01T04:42:07.692388Z"
    },
    "papermill": {
     "duration": 0.058353,
     "end_time": "2021-04-01T04:42:07.693082",
     "exception": false,
     "start_time": "2021-04-01T04:42:07.634729",
     "status": "completed"
    },
    "tags": []
   },
   "outputs": [
    {
     "data": {
      "text/html": [
       "<div>\n",
       "<style scoped>\n",
       "    .dataframe tbody tr th:only-of-type {\n",
       "        vertical-align: middle;\n",
       "    }\n",
       "\n",
       "    .dataframe tbody tr th {\n",
       "        vertical-align: top;\n",
       "    }\n",
       "\n",
       "    .dataframe thead th {\n",
       "        text-align: right;\n",
       "    }\n",
       "</style>\n",
       "<table border=\"1\" class=\"dataframe\">\n",
       "  <thead>\n",
       "    <tr style=\"text-align: right;\">\n",
       "      <th></th>\n",
       "      <th>competitorname</th>\n",
       "      <th>chocolate</th>\n",
       "      <th>fruity</th>\n",
       "      <th>caramel</th>\n",
       "      <th>peanutyalmondy</th>\n",
       "      <th>nougat</th>\n",
       "      <th>crispedricewafer</th>\n",
       "      <th>hard</th>\n",
       "      <th>bar</th>\n",
       "      <th>pluribus</th>\n",
       "      <th>sugarpercent</th>\n",
       "      <th>pricepercent</th>\n",
       "      <th>winpercent</th>\n",
       "    </tr>\n",
       "    <tr>\n",
       "      <th>id</th>\n",
       "      <th></th>\n",
       "      <th></th>\n",
       "      <th></th>\n",
       "      <th></th>\n",
       "      <th></th>\n",
       "      <th></th>\n",
       "      <th></th>\n",
       "      <th></th>\n",
       "      <th></th>\n",
       "      <th></th>\n",
       "      <th></th>\n",
       "      <th></th>\n",
       "      <th></th>\n",
       "    </tr>\n",
       "  </thead>\n",
       "  <tbody>\n",
       "    <tr>\n",
       "      <th>0</th>\n",
       "      <td>100 Grand</td>\n",
       "      <td>Yes</td>\n",
       "      <td>No</td>\n",
       "      <td>Yes</td>\n",
       "      <td>No</td>\n",
       "      <td>No</td>\n",
       "      <td>Yes</td>\n",
       "      <td>No</td>\n",
       "      <td>Yes</td>\n",
       "      <td>No</td>\n",
       "      <td>0.732</td>\n",
       "      <td>0.860</td>\n",
       "      <td>66.971725</td>\n",
       "    </tr>\n",
       "    <tr>\n",
       "      <th>1</th>\n",
       "      <td>3 Musketeers</td>\n",
       "      <td>Yes</td>\n",
       "      <td>No</td>\n",
       "      <td>No</td>\n",
       "      <td>No</td>\n",
       "      <td>Yes</td>\n",
       "      <td>No</td>\n",
       "      <td>No</td>\n",
       "      <td>Yes</td>\n",
       "      <td>No</td>\n",
       "      <td>0.604</td>\n",
       "      <td>0.511</td>\n",
       "      <td>67.602936</td>\n",
       "    </tr>\n",
       "    <tr>\n",
       "      <th>2</th>\n",
       "      <td>Air Heads</td>\n",
       "      <td>No</td>\n",
       "      <td>Yes</td>\n",
       "      <td>No</td>\n",
       "      <td>No</td>\n",
       "      <td>No</td>\n",
       "      <td>No</td>\n",
       "      <td>No</td>\n",
       "      <td>No</td>\n",
       "      <td>No</td>\n",
       "      <td>0.906</td>\n",
       "      <td>0.511</td>\n",
       "      <td>52.341465</td>\n",
       "    </tr>\n",
       "    <tr>\n",
       "      <th>3</th>\n",
       "      <td>Almond Joy</td>\n",
       "      <td>Yes</td>\n",
       "      <td>No</td>\n",
       "      <td>No</td>\n",
       "      <td>Yes</td>\n",
       "      <td>No</td>\n",
       "      <td>No</td>\n",
       "      <td>No</td>\n",
       "      <td>Yes</td>\n",
       "      <td>No</td>\n",
       "      <td>0.465</td>\n",
       "      <td>0.767</td>\n",
       "      <td>50.347546</td>\n",
       "    </tr>\n",
       "    <tr>\n",
       "      <th>4</th>\n",
       "      <td>Baby Ruth</td>\n",
       "      <td>Yes</td>\n",
       "      <td>No</td>\n",
       "      <td>Yes</td>\n",
       "      <td>Yes</td>\n",
       "      <td>Yes</td>\n",
       "      <td>No</td>\n",
       "      <td>No</td>\n",
       "      <td>Yes</td>\n",
       "      <td>No</td>\n",
       "      <td>0.604</td>\n",
       "      <td>0.767</td>\n",
       "      <td>56.914547</td>\n",
       "    </tr>\n",
       "  </tbody>\n",
       "</table>\n",
       "</div>"
      ],
      "text/plain": [
       "   competitorname chocolate fruity caramel peanutyalmondy nougat  \\\n",
       "id                                                                 \n",
       "0       100 Grand       Yes     No     Yes             No     No   \n",
       "1    3 Musketeers       Yes     No      No             No    Yes   \n",
       "2       Air Heads        No    Yes      No             No     No   \n",
       "3      Almond Joy       Yes     No      No            Yes     No   \n",
       "4       Baby Ruth       Yes     No     Yes            Yes    Yes   \n",
       "\n",
       "   crispedricewafer hard  bar pluribus  sugarpercent  pricepercent  winpercent  \n",
       "id                                                                              \n",
       "0               Yes   No  Yes       No         0.732         0.860   66.971725  \n",
       "1                No   No  Yes       No         0.604         0.511   67.602936  \n",
       "2                No   No   No       No         0.906         0.511   52.341465  \n",
       "3                No   No  Yes       No         0.465         0.767   50.347546  \n",
       "4                No   No  Yes       No         0.604         0.767   56.914547  "
      ]
     },
     "execution_count": 5,
     "metadata": {},
     "output_type": "execute_result"
    }
   ],
   "source": [
    "# Print the first five rows of the data\n",
    "candy_data.head()\n",
    "# Your code here"
   ]
  },
  {
   "cell_type": "markdown",
   "id": "absolute-flush",
   "metadata": {
    "papermill": {
     "duration": 0.02821,
     "end_time": "2021-04-01T04:42:07.749111",
     "exception": false,
     "start_time": "2021-04-01T04:42:07.720901",
     "status": "completed"
    },
    "tags": []
   },
   "source": [
    "The dataset contains 83 rows, where each corresponds to a different candy bar.  There are 13 columns:\n",
    "- `'competitorname'` contains the name of the candy bar. \n",
    "- the next **9** columns (from `'chocolate'` to `'pluribus'`) describe the candy.  For instance, rows with chocolate candies have `\"Yes\"` in the `'chocolate'` column (and candies without chocolate have `\"No\"` in the same column).\n",
    "- `'sugarpercent'` provides some indication of the amount of sugar, where higher values signify higher sugar content.\n",
    "- `'pricepercent'` shows the price per unit, relative to the other candies in the dataset.\n",
    "- `'winpercent'` is calculated from the survey results; higher values indicate that the candy was more popular with survey respondents.\n",
    "\n",
    "Use the first five rows of the data to answer the questions below."
   ]
  },
  {
   "cell_type": "code",
   "execution_count": 6,
   "id": "lightweight-empty",
   "metadata": {
    "execution": {
     "iopub.execute_input": "2021-04-01T04:42:07.811024Z",
     "iopub.status.busy": "2021-04-01T04:42:07.810034Z",
     "iopub.status.idle": "2021-04-01T04:42:07.816638Z",
     "shell.execute_reply": "2021-04-01T04:42:07.816094Z"
    },
    "papermill": {
     "duration": 0.039788,
     "end_time": "2021-04-01T04:42:07.816771",
     "exception": false,
     "start_time": "2021-04-01T04:42:07.776983",
     "status": "completed"
    },
    "tags": []
   },
   "outputs": [
    {
     "data": {
      "application/javascript": [
       "parent.postMessage({\"jupyterEvent\": \"custom.exercise_interaction\", \"data\": {\"outcomeType\": 1, \"valueTowardsCompletion\": 0.3333333333333333, \"interactionType\": 1, \"questionType\": 1, \"questionId\": \"2_ReviewData\", \"learnToolsVersion\": \"0.3.4\", \"failureMessage\": \"\", \"exceptionClass\": \"\", \"trace\": \"\"}}, \"*\")"
      ],
      "text/plain": [
       "<IPython.core.display.Javascript object>"
      ]
     },
     "metadata": {},
     "output_type": "display_data"
    },
    {
     "data": {
      "text/markdown": [
       "<span style=\"color:#33cc33\">Correct</span>"
      ],
      "text/plain": [
       "Correct"
      ]
     },
     "metadata": {},
     "output_type": "display_data"
    }
   ],
   "source": [
    "# Fill in the line below: Which candy was more popular with survey respondents:\n",
    "# '3 Musketeers' or 'Almond Joy'?  (Please enclose your answer in single quotes.)\n",
    "more_popular = '3 Musketeers'\n",
    "\n",
    "# Fill in the line below: Which candy has higher sugar content: 'Air Heads'\n",
    "# or 'Baby Ruth'? (Please enclose your answer in single quotes.)\n",
    "more_sugar = 'Air Heads'\n",
    "\n",
    "# Check your answers\n",
    "step_2.check()"
   ]
  },
  {
   "cell_type": "code",
   "execution_count": 7,
   "id": "otherwise-uncle",
   "metadata": {
    "execution": {
     "iopub.execute_input": "2021-04-01T04:42:07.880536Z",
     "iopub.status.busy": "2021-04-01T04:42:07.879668Z",
     "iopub.status.idle": "2021-04-01T04:42:07.882138Z",
     "shell.execute_reply": "2021-04-01T04:42:07.882641Z"
    },
    "papermill": {
     "duration": 0.036845,
     "end_time": "2021-04-01T04:42:07.882802",
     "exception": false,
     "start_time": "2021-04-01T04:42:07.845957",
     "status": "completed"
    },
    "tags": []
   },
   "outputs": [],
   "source": [
    "# Lines below will give you a hint or solution code\n",
    "#step_2.hint()\n",
    "#step_2.solution()"
   ]
  },
  {
   "cell_type": "markdown",
   "id": "relative-sweet",
   "metadata": {
    "papermill": {
     "duration": 0.029936,
     "end_time": "2021-04-01T04:42:07.943358",
     "exception": false,
     "start_time": "2021-04-01T04:42:07.913422",
     "status": "completed"
    },
    "tags": []
   },
   "source": [
    "## Step 3: The role of sugar\n",
    "\n",
    "Do people tend to prefer candies with higher sugar content?  \n",
    "\n",
    "#### Part A\n",
    "\n",
    "Create a scatter plot that shows the relationship between `'sugarpercent'` (on the horizontal x-axis) and `'winpercent'` (on the vertical y-axis).  _Don't add a regression line just yet -- you'll do that in the next step!_"
   ]
  },
  {
   "cell_type": "code",
   "execution_count": 8,
   "id": "recovered-cruise",
   "metadata": {
    "execution": {
     "iopub.execute_input": "2021-04-01T04:42:08.029433Z",
     "iopub.status.busy": "2021-04-01T04:42:08.028641Z",
     "iopub.status.idle": "2021-04-01T04:42:08.241774Z",
     "shell.execute_reply": "2021-04-01T04:42:08.241193Z"
    },
    "papermill": {
     "duration": 0.268253,
     "end_time": "2021-04-01T04:42:08.241916",
     "exception": false,
     "start_time": "2021-04-01T04:42:07.973663",
     "status": "completed"
    },
    "tags": []
   },
   "outputs": [
    {
     "data": {
      "application/javascript": [
       "parent.postMessage({\"jupyterEvent\": \"custom.exercise_interaction\", \"data\": {\"outcomeType\": 1, \"valueTowardsCompletion\": 0.3333333333333333, \"interactionType\": 1, \"questionType\": 2, \"questionId\": \"3.1_PlotBlueScatter\", \"learnToolsVersion\": \"0.3.4\", \"failureMessage\": \"\", \"exceptionClass\": \"\", \"trace\": \"\"}}, \"*\")"
      ],
      "text/plain": [
       "<IPython.core.display.Javascript object>"
      ]
     },
     "metadata": {},
     "output_type": "display_data"
    },
    {
     "data": {
      "text/markdown": [
       "<span style=\"color:#33cc33\">Correct</span>"
      ],
      "text/plain": [
       "Correct"
      ]
     },
     "metadata": {},
     "output_type": "display_data"
    },
    {
     "data": {
      "image/png": "[encoded data removed]",
      "text/plain": [
       "<Figure size 432x288 with 1 Axes>"
      ]
     },
     "metadata": {
      "needs_background": "light"
     },
     "output_type": "display_data"
    }
   ],
   "source": [
    "# Scatter plot showing the relationship between 'sugarpercent' and 'winpercent'\n",
    "\n",
    "sns.scatterplot(x=candy_data['sugarpercent'], y=candy_data['winpercent'])\n",
    "# Your code here\n",
    "\n",
    "# Check your answer\n",
    "step_3.a.check()"
   ]
  },
  {
   "cell_type": "code",
   "execution_count": 9,
   "id": "plastic-desert",
   "metadata": {
    "execution": {
     "iopub.execute_input": "2021-04-01T04:42:08.309176Z",
     "iopub.status.busy": "2021-04-01T04:42:08.308525Z",
     "iopub.status.idle": "2021-04-01T04:42:08.464145Z",
     "shell.execute_reply": "2021-04-01T04:42:08.463476Z"
    },
    "papermill": {
     "duration": 0.191145,
     "end_time": "2021-04-01T04:42:08.464282",
     "exception": false,
     "start_time": "2021-04-01T04:42:08.273137",
     "status": "completed"
    },
    "tags": []
   },
   "outputs": [
    {
     "data": {
      "application/javascript": [
       "parent.postMessage({\"jupyterEvent\": \"custom.exercise_interaction\", \"data\": {\"interactionType\": 3, \"questionType\": 2, \"questionId\": \"3.1_PlotBlueScatter\", \"learnToolsVersion\": \"0.3.4\", \"valueTowardsCompletion\": 0.0, \"failureMessage\": \"\", \"exceptionClass\": \"\", \"trace\": \"\", \"outcomeType\": 4}}, \"*\")"
      ],
      "text/plain": [
       "<IPython.core.display.Javascript object>"
      ]
     },
     "metadata": {},
     "output_type": "display_data"
    },
    {
     "data": {
      "text/markdown": [
       "<span style=\"color:#33cc99\">Solution:</span> \n",
       "```python\n",
       "# Scatter plot showing the relationship between 'sugarpercent' and 'winpercent'\n",
       "sns.scatterplot(x=candy_data['sugarpercent'], y=candy_data['winpercent'])\n",
       "\n",
       "```"
      ],
      "text/plain": [
       "Solution: \n",
       "```python\n",
       "# Scatter plot showing the relationship between 'sugarpercent' and 'winpercent'\n",
       "sns.scatterplot(x=candy_data['sugarpercent'], y=candy_data['winpercent'])\n",
       "\n",
       "```"
      ]
     },
     "metadata": {},
     "output_type": "display_data"
    },
    {
     "data": {
      "image/png": "[encoded data removed]",
      "text/plain": [
       "<Figure size 432x288 with 1 Axes>"
      ]
     },
     "metadata": {
      "needs_background": "light"
     },
     "output_type": "display_data"
    }
   ],
   "source": [
    "# Lines below will give you a hint or solution code\n",
    "#step_3.a.hint()\n",
    "step_3.a.solution_plot()"
   ]
  },
  {
   "cell_type": "markdown",
   "id": "architectural-links",
   "metadata": {
    "papermill": {
     "duration": 0.033181,
     "end_time": "2021-04-01T04:42:08.530817",
     "exception": false,
     "start_time": "2021-04-01T04:42:08.497636",
     "status": "completed"
    },
    "tags": []
   },
   "source": [
    "#### Part B\n",
    "\n",
    "Does the scatter plot show a **strong** correlation between the two variables?  If so, are candies with more sugar relatively more or less popular with the survey respondents?"
   ]
  },
  {
   "cell_type": "code",
   "execution_count": 10,
   "id": "official-account",
   "metadata": {
    "execution": {
     "iopub.execute_input": "2021-04-01T04:42:08.602159Z",
     "iopub.status.busy": "2021-04-01T04:42:08.601341Z",
     "iopub.status.idle": "2021-04-01T04:42:08.604676Z",
     "shell.execute_reply": "2021-04-01T04:42:08.604046Z"
    },
    "papermill": {
     "duration": 0.040694,
     "end_time": "2021-04-01T04:42:08.604812",
     "exception": false,
     "start_time": "2021-04-01T04:42:08.564118",
     "status": "completed"
    },
    "tags": []
   },
   "outputs": [],
   "source": [
    "#step_3.b.hint()"
   ]
  },
  {
   "cell_type": "code",
   "execution_count": 11,
   "id": "advanced-hello",
   "metadata": {
    "execution": {
     "iopub.execute_input": "2021-04-01T04:42:08.677141Z",
     "iopub.status.busy": "2021-04-01T04:42:08.676440Z",
     "iopub.status.idle": "2021-04-01T04:42:08.681490Z",
     "shell.execute_reply": "2021-04-01T04:42:08.680881Z"
    },
    "papermill": {
     "duration": 0.043285,
     "end_time": "2021-04-01T04:42:08.681661",
     "exception": false,
     "start_time": "2021-04-01T04:42:08.638376",
     "status": "completed"
    },
    "tags": []
   },
   "outputs": [
    {
     "data": {
      "application/javascript": [
       "parent.postMessage({\"jupyterEvent\": \"custom.exercise_interaction\", \"data\": {\"interactionType\": 3, \"questionType\": 4, \"questionId\": \"3.2_ThinkBlueScatter\", \"learnToolsVersion\": \"0.3.4\", \"valueTowardsCompletion\": 0.0, \"failureMessage\": \"\", \"exceptionClass\": \"\", \"trace\": \"\", \"outcomeType\": 4}}, \"*\")"
      ],
      "text/plain": [
       "<IPython.core.display.Javascript object>"
      ]
     },
     "metadata": {},
     "output_type": "display_data"
    },
    {
     "data": {
      "text/markdown": [
       "<span style=\"color:#33cc99\">Solution:</span> The scatter plot does not show a strong correlation between the two variables. Since there is no clear relationship between the two variables, this tells us that sugar content does not play a strong role in candy popularity."
      ],
      "text/plain": [
       "Solution: The scatter plot does not show a strong correlation between the two variables. Since there is no clear relationship between the two variables, this tells us that sugar content does not play a strong role in candy popularity."
      ]
     },
     "metadata": {},
     "output_type": "display_data"
    }
   ],
   "source": [
    "# Check your answer (Run this code cell to receive credit!)\n",
    "step_3.b.solution()"
   ]
  },
  {
   "cell_type": "markdown",
   "id": "macro-phenomenon",
   "metadata": {
    "papermill": {
     "duration": 0.034028,
     "end_time": "2021-04-01T04:42:08.750144",
     "exception": false,
     "start_time": "2021-04-01T04:42:08.716116",
     "status": "completed"
    },
    "tags": []
   },
   "source": [
    "## Step 4: Take a closer look\n",
    "\n",
    "#### Part A\n",
    "\n",
    "Create the same scatter plot you created in **Step 3**, but now with a regression line!"
   ]
  },
  {
   "cell_type": "code",
   "execution_count": 12,
   "id": "adverse-hammer",
   "metadata": {
    "execution": {
     "iopub.execute_input": "2021-04-01T04:42:08.841968Z",
     "iopub.status.busy": "2021-04-01T04:42:08.835754Z",
     "iopub.status.idle": "2021-04-01T04:42:09.089113Z",
     "shell.execute_reply": "2021-04-01T04:42:09.088513Z"
    },
    "papermill": {
     "duration": 0.30437,
     "end_time": "2021-04-01T04:42:09.089248",
     "exception": false,
     "start_time": "2021-04-01T04:42:08.784878",
     "status": "completed"
    },
    "tags": []
   },
   "outputs": [
    {
     "data": {
      "application/javascript": [
       "parent.postMessage({\"jupyterEvent\": \"custom.exercise_interaction\", \"data\": {\"outcomeType\": 1, \"valueTowardsCompletion\": 0.3333333333333333, \"interactionType\": 1, \"questionType\": 2, \"questionId\": \"4.1_PlotBlueReg\", \"learnToolsVersion\": \"0.3.4\", \"failureMessage\": \"\", \"exceptionClass\": \"\", \"trace\": \"\"}}, \"*\")"
      ],
      "text/plain": [
       "<IPython.core.display.Javascript object>"
      ]
     },
     "metadata": {},
     "output_type": "display_data"
    },
    {
     "data": {
      "text/markdown": [
       "<span style=\"color:#33cc33\">Correct</span>"
      ],
      "text/plain": [
       "Correct"
      ]
     },
     "metadata": {},
     "output_type": "display_data"
    },
    {
     "data": {
      "image/png": "[encoded data removed]",
      "text/plain": [
       "<Figure size 432x288 with 1 Axes>"
      ]
     },
     "metadata": {
      "needs_background": "light"
     },
     "output_type": "display_data"
    }
   ],
   "source": [
    "# Scatter plot w/ regression line showing the relationship between 'sugarpercent' and 'winpercent'\n",
    "sns.regplot(x=candy_data['sugarpercent'], y=candy_data['winpercent'])\n",
    " # Your code here\n",
    "\n",
    "# Check your answer\n",
    "step_4.a.check()"
   ]
  },
  {
   "cell_type": "code",
   "execution_count": 13,
   "id": "catholic-february",
   "metadata": {
    "execution": {
     "iopub.execute_input": "2021-04-01T04:42:09.167831Z",
     "iopub.status.busy": "2021-04-01T04:42:09.166936Z",
     "iopub.status.idle": "2021-04-01T04:42:09.170136Z",
     "shell.execute_reply": "2021-04-01T04:42:09.169633Z"
    },
    "papermill": {
     "duration": 0.044743,
     "end_time": "2021-04-01T04:42:09.170259",
     "exception": false,
     "start_time": "2021-04-01T04:42:09.125516",
     "status": "completed"
    },
    "tags": []
   },
   "outputs": [],
   "source": [
    "# Lines below will give you a hint or solution code\n",
    "#step_4.a.hint()\n",
    "#step_4.a.solution_plot()"
   ]
  },
  {
   "cell_type": "markdown",
   "id": "unusual-estonia",
   "metadata": {
    "papermill": {
     "duration": 0.035387,
     "end_time": "2021-04-01T04:42:09.241038",
     "exception": false,
     "start_time": "2021-04-01T04:42:09.205651",
     "status": "completed"
    },
    "tags": []
   },
   "source": [
    "#### Part B\n",
    "\n",
    "According to the plot above, is there a **slight** correlation between `'winpercent'` and `'sugarpercent'`?  What does this tell you about the candy that people tend to prefer?"
   ]
  },
  {
   "cell_type": "code",
   "execution_count": 14,
   "id": "selected-collectible",
   "metadata": {
    "execution": {
     "iopub.execute_input": "2021-04-01T04:42:09.318257Z",
     "iopub.status.busy": "2021-04-01T04:42:09.317514Z",
     "iopub.status.idle": "2021-04-01T04:42:09.320013Z",
     "shell.execute_reply": "2021-04-01T04:42:09.320531Z"
    },
    "papermill": {
     "duration": 0.043411,
     "end_time": "2021-04-01T04:42:09.320709",
     "exception": false,
     "start_time": "2021-04-01T04:42:09.277298",
     "status": "completed"
    },
    "tags": []
   },
   "outputs": [],
   "source": [
    "#step_4.b.hint()"
   ]
  },
  {
   "cell_type": "code",
   "execution_count": 15,
   "id": "thick-hepatitis",
   "metadata": {
    "execution": {
     "iopub.execute_input": "2021-04-01T04:42:09.401463Z",
     "iopub.status.busy": "2021-04-01T04:42:09.400871Z",
     "iopub.status.idle": "2021-04-01T04:42:09.406682Z",
     "shell.execute_reply": "2021-04-01T04:42:09.406196Z"
    },
    "papermill": {
     "duration": 0.048525,
     "end_time": "2021-04-01T04:42:09.406814",
     "exception": false,
     "start_time": "2021-04-01T04:42:09.358289",
     "status": "completed"
    },
    "tags": []
   },
   "outputs": [
    {
     "data": {
      "application/javascript": [
       "parent.postMessage({\"jupyterEvent\": \"custom.exercise_interaction\", \"data\": {\"interactionType\": 3, \"questionType\": 4, \"questionId\": \"4.2_ThinkBlueReg\", \"learnToolsVersion\": \"0.3.4\", \"valueTowardsCompletion\": 0.0, \"failureMessage\": \"\", \"exceptionClass\": \"\", \"trace\": \"\", \"outcomeType\": 4}}, \"*\")"
      ],
      "text/plain": [
       "<IPython.core.display.Javascript object>"
      ]
     },
     "metadata": {},
     "output_type": "display_data"
    },
    {
     "data": {
      "text/markdown": [
       "<span style=\"color:#33cc99\">Solution:</span> Since the regression line has a slightly positive slope, this tells us that there is a slightly positive correlation between `'winpercent'` and `'sugarpercent'`. Thus, people have a slight preference for candies containing relatively more sugar."
      ],
      "text/plain": [
       "Solution: Since the regression line has a slightly positive slope, this tells us that there is a slightly positive correlation between `'winpercent'` and `'sugarpercent'`. Thus, people have a slight preference for candies containing relatively more sugar."
      ]
     },
     "metadata": {},
     "output_type": "display_data"
    }
   ],
   "source": [
    "# Check your answer (Run this code cell to receive credit!)\n",
    "step_4.b.solution()"
   ]
  },
  {
   "cell_type": "markdown",
   "id": "occasional-transport",
   "metadata": {
    "papermill": {
     "duration": 0.037817,
     "end_time": "2021-04-01T04:42:09.482711",
     "exception": false,
     "start_time": "2021-04-01T04:42:09.444894",
     "status": "completed"
    },
    "tags": []
   },
   "source": [
    "## Step 5: Chocolate!\n",
    "\n",
    "In the code cell below, create a scatter plot to show the relationship between `'pricepercent'` (on the horizontal x-axis) and `'winpercent'` (on the vertical y-axis). Use the `'chocolate'` column to color-code the points.  _Don't add any regression lines just yet -- you'll do that in the next step!_"
   ]
  },
  {
   "cell_type": "code",
   "execution_count": 16,
   "id": "olympic-heritage",
   "metadata": {
    "execution": {
     "iopub.execute_input": "2021-04-01T04:42:09.628943Z",
     "iopub.status.busy": "2021-04-01T04:42:09.615254Z",
     "iopub.status.idle": "2021-04-01T04:42:09.790820Z",
     "shell.execute_reply": "2021-04-01T04:42:09.790245Z"
    },
    "papermill": {
     "duration": 0.270254,
     "end_time": "2021-04-01T04:42:09.790958",
     "exception": false,
     "start_time": "2021-04-01T04:42:09.520704",
     "status": "completed"
    },
    "tags": []
   },
   "outputs": [
    {
     "data": {
      "application/javascript": [
       "parent.postMessage({\"jupyterEvent\": \"custom.exercise_interaction\", \"data\": {\"outcomeType\": 1, \"valueTowardsCompletion\": 0.3333333333333333, \"interactionType\": 1, \"questionType\": 2, \"questionId\": \"5_ColorScatter\", \"learnToolsVersion\": \"0.3.4\", \"failureMessage\": \"\", \"exceptionClass\": \"\", \"trace\": \"\"}}, \"*\")"
      ],
      "text/plain": [
       "<IPython.core.display.Javascript object>"
      ]
     },
     "metadata": {},
     "output_type": "display_data"
    },
    {
     "data": {
      "text/markdown": [
       "<span style=\"color:#33cc33\">Correct</span>"
      ],
      "text/plain": [
       "Correct"
      ]
     },
     "metadata": {},
     "output_type": "display_data"
    },
    {
     "data": {
      "image/png": "[encoded data removed]",
      "text/plain": [
       "<Figure size 432x288 with 1 Axes>"
      ]
     },
     "metadata": {
      "needs_background": "light"
     },
     "output_type": "display_data"
    }
   ],
   "source": [
    "# Scatter plot showing the relationship between 'pricepercent', 'winpercent', and 'chocolate'\n",
    "sns.scatterplot(x=candy_data['pricepercent'], y=candy_data['winpercent'], hue = candy_data['chocolate'])\n",
    "# Your code here\n",
    "\n",
    "# Check your answer\n",
    "step_5.check()"
   ]
  },
  {
   "cell_type": "code",
   "execution_count": 17,
   "id": "severe-princeton",
   "metadata": {
    "execution": {
     "iopub.execute_input": "2021-04-01T04:42:09.876969Z",
     "iopub.status.busy": "2021-04-01T04:42:09.875958Z",
     "iopub.status.idle": "2021-04-01T04:42:09.879579Z",
     "shell.execute_reply": "2021-04-01T04:42:09.879022Z"
    },
    "papermill": {
     "duration": 0.048258,
     "end_time": "2021-04-01T04:42:09.879764",
     "exception": false,
     "start_time": "2021-04-01T04:42:09.831506",
     "status": "completed"
    },
    "tags": []
   },
   "outputs": [],
   "source": [
    "# Lines below will give you a hint or solution code\n",
    "#step_5.hint()\n",
    "#step_5.solution_plot()"
   ]
  },
  {
   "cell_type": "markdown",
   "id": "honey-advice",
   "metadata": {
    "papermill": {
     "duration": 0.040554,
     "end_time": "2021-04-01T04:42:09.961445",
     "exception": false,
     "start_time": "2021-04-01T04:42:09.920891",
     "status": "completed"
    },
    "tags": []
   },
   "source": [
    "Can you see any interesting patterns in the scatter plot?  We'll investigate this plot further  by adding regression lines in the next step!\n",
    "\n",
    "## Step 6: Investigate chocolate\n",
    "\n",
    "#### Part A\n",
    "\n",
    "Create the same scatter plot you created in **Step 5**, but now with two regression lines, corresponding to (1) chocolate candies and (2) candies without chocolate."
   ]
  },
  {
   "cell_type": "code",
   "execution_count": 18,
   "id": "minus-force",
   "metadata": {
    "execution": {
     "iopub.execute_input": "2021-04-01T04:42:10.080149Z",
     "iopub.status.busy": "2021-04-01T04:42:10.077293Z",
     "iopub.status.idle": "2021-04-01T04:42:10.618448Z",
     "shell.execute_reply": "2021-04-01T04:42:10.618992Z"
    },
    "papermill": {
     "duration": 0.617658,
     "end_time": "2021-04-01T04:42:10.619169",
     "exception": false,
     "start_time": "2021-04-01T04:42:10.001511",
     "status": "completed"
    },
    "tags": []
   },
   "outputs": [
    {
     "data": {
      "application/javascript": [
       "parent.postMessage({\"jupyterEvent\": \"custom.exercise_interaction\", \"data\": {\"outcomeType\": 1, \"valueTowardsCompletion\": 0.3333333333333333, \"interactionType\": 1, \"questionType\": 2, \"questionId\": \"6.1_PlotColorReg\", \"learnToolsVersion\": \"0.3.4\", \"failureMessage\": \"\", \"exceptionClass\": \"\", \"trace\": \"\"}}, \"*\")"
      ],
      "text/plain": [
       "<IPython.core.display.Javascript object>"
      ]
     },
     "metadata": {},
     "output_type": "display_data"
    },
    {
     "data": {
      "text/markdown": [
       "<span style=\"color:#33cc33\">Correct</span>"
      ],
      "text/plain": [
       "Correct"
      ]
     },
     "metadata": {},
     "output_type": "display_data"
    },
    {
     "data": {
      "image/png": "[encoded data removed]",
      "text/plain": [
       "<Figure size 416.375x360 with 1 Axes>"
      ]
     },
     "metadata": {
      "needs_background": "light"
     },
     "output_type": "display_data"
    }
   ],
   "source": [
    "# Color-coded scatter plot w/ regression lines\n",
    "sns.lmplot(x=\"pricepercent\", y=\"winpercent\", hue=\"chocolate\", data=candy_data)\n",
    "# Your code here\n",
    "\n",
    "# Check your answer\n",
    "step_6.a.check()"
   ]
  },
  {
   "cell_type": "code",
   "execution_count": 19,
   "id": "treated-boundary",
   "metadata": {
    "execution": {
     "iopub.execute_input": "2021-04-01T04:42:10.707591Z",
     "iopub.status.busy": "2021-04-01T04:42:10.706975Z",
     "iopub.status.idle": "2021-04-01T04:42:10.710488Z",
     "shell.execute_reply": "2021-04-01T04:42:10.711038Z"
    },
    "papermill": {
     "duration": 0.049406,
     "end_time": "2021-04-01T04:42:10.711199",
     "exception": false,
     "start_time": "2021-04-01T04:42:10.661793",
     "status": "completed"
    },
    "tags": []
   },
   "outputs": [],
   "source": [
    "# Lines below will give you a hint or solution code\n",
    "#step_6.a.hint()\n",
    "#step_6.a.solution_plot()"
   ]
  },
  {
   "cell_type": "markdown",
   "id": "regional-sender",
   "metadata": {
    "papermill": {
     "duration": 0.042335,
     "end_time": "2021-04-01T04:42:10.802445",
     "exception": false,
     "start_time": "2021-04-01T04:42:10.760110",
     "status": "completed"
    },
    "tags": []
   },
   "source": [
    "#### Part B\n",
    "\n",
    "Using the regression lines, what conclusions can you draw about the effects of chocolate and price on candy popularity?"
   ]
  },
  {
   "cell_type": "code",
   "execution_count": 20,
   "id": "revised-regular",
   "metadata": {
    "execution": {
     "iopub.execute_input": "2021-04-01T04:42:10.890649Z",
     "iopub.status.busy": "2021-04-01T04:42:10.890029Z",
     "iopub.status.idle": "2021-04-01T04:42:10.893065Z",
     "shell.execute_reply": "2021-04-01T04:42:10.893527Z"
    },
    "papermill": {
     "duration": 0.048892,
     "end_time": "2021-04-01T04:42:10.893713",
     "exception": false,
     "start_time": "2021-04-01T04:42:10.844821",
     "status": "completed"
    },
    "tags": []
   },
   "outputs": [],
   "source": [
    "#step_6.b.hint()"
   ]
  },
  {
   "cell_type": "code",
   "execution_count": 21,
   "id": "beautiful-isaac",
   "metadata": {
    "execution": {
     "iopub.execute_input": "2021-04-01T04:42:10.981941Z",
     "iopub.status.busy": "2021-04-01T04:42:10.981309Z",
     "iopub.status.idle": "2021-04-01T04:42:10.988509Z",
     "shell.execute_reply": "2021-04-01T04:42:10.987986Z"
    },
    "papermill": {
     "duration": 0.052208,
     "end_time": "2021-04-01T04:42:10.988663",
     "exception": false,
     "start_time": "2021-04-01T04:42:10.936455",
     "status": "completed"
    },
    "tags": []
   },
   "outputs": [
    {
     "data": {
      "application/javascript": [
       "parent.postMessage({\"jupyterEvent\": \"custom.exercise_interaction\", \"data\": {\"interactionType\": 3, \"questionType\": 4, \"questionId\": \"6.2_ThinkColorReg\", \"learnToolsVersion\": \"0.3.4\", \"valueTowardsCompletion\": 0.0, \"failureMessage\": \"\", \"exceptionClass\": \"\", \"trace\": \"\", \"outcomeType\": 4}}, \"*\")"
      ],
      "text/plain": [
       "<IPython.core.display.Javascript object>"
      ]
     },
     "metadata": {},
     "output_type": "display_data"
    },
    {
     "data": {
      "text/markdown": [
       "<span style=\"color:#33cc99\">Solution:</span> We'll begin with the regression line for chocolate candies. Since this line has a slightly positive slope, we can say that more expensive chocolate candies tend to be more popular (than relatively cheaper chocolate candies).  Likewise, since the regression line for candies without chocolate has a negative slope, we can say that if candies don't contain chocolate, they tend to be more popular when they are cheaper.  One important note, however, is that the dataset is quite small -- so we shouldn't invest too much trust in these patterns!  To inspire more confidence in the results, we should add more candies to the dataset."
      ],
      "text/plain": [
       "Solution: We'll begin with the regression line for chocolate candies. Since this line has a slightly positive slope, we can say that more expensive chocolate candies tend to be more popular (than relatively cheaper chocolate candies).  Likewise, since the regression line for candies without chocolate has a negative slope, we can say that if candies don't contain chocolate, they tend to be more popular when they are cheaper.  One important note, however, is that the dataset is quite small -- so we shouldn't invest too much trust in these patterns!  To inspire more confidence in the results, we should add more candies to the dataset."
      ]
     },
     "metadata": {},
     "output_type": "display_data"
    }
   ],
   "source": [
    "# Check your answer (Run this code cell to receive credit!)\n",
    "step_6.b.solution()"
   ]
  },
  {
   "cell_type": "markdown",
   "id": "linear-future",
   "metadata": {
    "papermill": {
     "duration": 0.043273,
     "end_time": "2021-04-01T04:42:11.075758",
     "exception": false,
     "start_time": "2021-04-01T04:42:11.032485",
     "status": "completed"
    },
    "tags": []
   },
   "source": [
    "## Step 7: Everybody loves chocolate.\n",
    "\n",
    "#### Part A\n",
    "\n",
    "Create a categorical scatter plot to highlight the relationship between `'chocolate'` and `'winpercent'`.  Put `'chocolate'` on the (horizontal) x-axis, and `'winpercent'` on the (vertical) y-axis."
   ]
  },
  {
   "cell_type": "code",
   "execution_count": 22,
   "id": "operational-poster",
   "metadata": {
    "execution": {
     "iopub.execute_input": "2021-04-01T04:42:11.203045Z",
     "iopub.status.busy": "2021-04-01T04:42:11.201389Z",
     "iopub.status.idle": "2021-04-01T04:42:11.313736Z",
     "shell.execute_reply": "2021-04-01T04:42:11.312444Z"
    },
    "papermill": {
     "duration": 0.194102,
     "end_time": "2021-04-01T04:42:11.313900",
     "exception": false,
     "start_time": "2021-04-01T04:42:11.119798",
     "status": "completed"
    },
    "tags": []
   },
   "outputs": [
    {
     "data": {
      "application/javascript": [
       "parent.postMessage({\"jupyterEvent\": \"custom.exercise_interaction\", \"data\": {\"outcomeType\": 1, \"valueTowardsCompletion\": 0.3333333333333333, \"interactionType\": 1, \"questionType\": 2, \"questionId\": \"7.1_PlotSwarm\", \"learnToolsVersion\": \"0.3.4\", \"failureMessage\": \"\", \"exceptionClass\": \"\", \"trace\": \"\"}}, \"*\")"
      ],
      "text/plain": [
       "<IPython.core.display.Javascript object>"
      ]
     },
     "metadata": {},
     "output_type": "display_data"
    },
    {
     "data": {
      "text/markdown": [
       "<span style=\"color:#33cc33\">Correct</span>"
      ],
      "text/plain": [
       "Correct"
      ]
     },
     "metadata": {},
     "output_type": "display_data"
    },
    {
     "data": {
      "image/png": "[encoded data removed]",
      "text/plain": [
       "<Figure size 432x288 with 1 Axes>"
      ]
     },
     "metadata": {
      "needs_background": "light"
     },
     "output_type": "display_data"
    }
   ],
   "source": [
    "# Scatter plot showing the relationship between 'chocolate' and 'winpercent'\n",
    "sns.swarmplot(x=candy_data['chocolate'], y=candy_data['winpercent'])\n",
    "# Your code here\n",
    "\n",
    "# Check your answer\n",
    "step_7.a.check()"
   ]
  },
  {
   "cell_type": "code",
   "execution_count": 23,
   "id": "centered-level",
   "metadata": {
    "execution": {
     "iopub.execute_input": "2021-04-01T04:42:11.410566Z",
     "iopub.status.busy": "2021-04-01T04:42:11.409592Z",
     "iopub.status.idle": "2021-04-01T04:42:11.412332Z",
     "shell.execute_reply": "2021-04-01T04:42:11.412823Z"
    },
    "papermill": {
     "duration": 0.053064,
     "end_time": "2021-04-01T04:42:11.412988",
     "exception": false,
     "start_time": "2021-04-01T04:42:11.359924",
     "status": "completed"
    },
    "tags": []
   },
   "outputs": [],
   "source": [
    "# Lines below will give you a hint or solution code\n",
    "#step_7.a.hint()\n",
    "#step_7.a.solution_plot()"
   ]
  },
  {
   "cell_type": "markdown",
   "id": "numeric-announcement",
   "metadata": {
    "papermill": {
     "duration": 0.045381,
     "end_time": "2021-04-01T04:42:11.503568",
     "exception": false,
     "start_time": "2021-04-01T04:42:11.458187",
     "status": "completed"
    },
    "tags": []
   },
   "source": [
    "#### Part B\n",
    "\n",
    "You decide to dedicate a section of your report to the fact that chocolate candies tend to be more popular than candies without chocolate.  Which plot is more appropriate to tell this story: the plot from **Step 6**, or the plot from **Step 7**?"
   ]
  },
  {
   "cell_type": "code",
   "execution_count": 24,
   "id": "recent-poster",
   "metadata": {
    "execution": {
     "iopub.execute_input": "2021-04-01T04:42:11.598243Z",
     "iopub.status.busy": "2021-04-01T04:42:11.597328Z",
     "iopub.status.idle": "2021-04-01T04:42:11.601512Z",
     "shell.execute_reply": "2021-04-01T04:42:11.601988Z"
    },
    "papermill": {
     "duration": 0.053053,
     "end_time": "2021-04-01T04:42:11.602148",
     "exception": false,
     "start_time": "2021-04-01T04:42:11.549095",
     "status": "completed"
    },
    "tags": []
   },
   "outputs": [],
   "source": [
    "#step_7.b.hint()"
   ]
  },
  {
   "cell_type": "code",
   "execution_count": 25,
   "id": "designing-republican",
   "metadata": {
    "execution": {
     "iopub.execute_input": "2021-04-01T04:42:11.698104Z",
     "iopub.status.busy": "2021-04-01T04:42:11.697468Z",
     "iopub.status.idle": "2021-04-01T04:42:11.701426Z",
     "shell.execute_reply": "2021-04-01T04:42:11.701919Z"
    },
    "papermill": {
     "duration": 0.054235,
     "end_time": "2021-04-01T04:42:11.702081",
     "exception": false,
     "start_time": "2021-04-01T04:42:11.647846",
     "status": "completed"
    },
    "tags": []
   },
   "outputs": [
    {
     "data": {
      "application/javascript": [
       "parent.postMessage({\"jupyterEvent\": \"custom.exercise_interaction\", \"data\": {\"interactionType\": 3, \"questionType\": 4, \"questionId\": \"7.2_ThinkSwarm\", \"learnToolsVersion\": \"0.3.4\", \"valueTowardsCompletion\": 0.0, \"failureMessage\": \"\", \"exceptionClass\": \"\", \"trace\": \"\", \"outcomeType\": 4}}, \"*\")"
      ],
      "text/plain": [
       "<IPython.core.display.Javascript object>"
      ]
     },
     "metadata": {},
     "output_type": "display_data"
    },
    {
     "data": {
      "text/markdown": [
       "<span style=\"color:#33cc99\">Solution:</span> In this case, the categorical scatter plot from **Step 7** is the more appropriate plot. While both plots tell the desired story, the plot from **Step 6** conveys far more information that could distract from the main point."
      ],
      "text/plain": [
       "Solution: In this case, the categorical scatter plot from **Step 7** is the more appropriate plot. While both plots tell the desired story, the plot from **Step 6** conveys far more information that could distract from the main point."
      ]
     },
     "metadata": {},
     "output_type": "display_data"
    }
   ],
   "source": [
    "# Check your answer (Run this code cell to receive credit!)\n",
    "step_7.b.solution()"
   ]
  },
  {
   "cell_type": "markdown",
   "id": "enhanced-london",
   "metadata": {
    "papermill": {
     "duration": 0.047091,
     "end_time": "2021-04-01T04:42:11.795910",
     "exception": false,
     "start_time": "2021-04-01T04:42:11.748819",
     "status": "completed"
    },
    "tags": []
   },
   "source": [
    "## Keep going\n",
    "\n",
    "Explore **[histograms and density plots](https://www.kaggle.com/alexisbcook/distributions)**."
   ]
  },
  {
   "cell_type": "markdown",
   "id": "adverse-actress",
   "metadata": {
    "papermill": {
     "duration": 0.046893,
     "end_time": "2021-04-01T04:42:11.890076",
     "exception": false,
     "start_time": "2021-04-01T04:42:11.843183",
     "status": "completed"
    },
    "tags": []
   },
   "source": [
    "---\n",
    "\n",
    "\n",
    "\n",
    "\n",
    "*Have questions or comments? Visit the [Learn Discussion forum](https://www.kaggle.com/learn-forum/161291) to chat with other Learners.*"
   ]
  }
 ],
 "metadata": {
  "kernelspec": {
   "display_name": "Python 3",
   "language": "python",
   "name": "python3"
  },
  "language_info": {
   "codemirror_mode": {
    "name": "ipython",
    "version": 3
   },
   "file_extension": ".py",
   "mimetype": "text/x-python",
   "name": "python",
   "nbconvert_exporter": "python",
   "pygments_lexer": "ipython3",
   "version": "3.7.9"
  },
  "papermill": {
   "default_parameters": {},
   "duration": 12.470788,
   "end_time": "2021-04-01T04:42:12.545716",
   "environment_variables": {},
   "exception": null,
   "input_path": "__notebook__.ipynb",
   "output_path": "__notebook__.ipynb",
   "parameters": {},
   "start_time": "2021-04-01T04:42:00.074928",
   "version": "2.3.2"
  }
 },
 "nbformat": 4,
 "nbformat_minor": 5
}
